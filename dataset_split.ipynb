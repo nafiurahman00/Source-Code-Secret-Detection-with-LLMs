{
 "cells": [
  {
   "cell_type": "code",
   "execution_count": 1,
   "metadata": {},
   "outputs": [
    {
     "name": "stderr",
     "output_type": "stream",
     "text": [
      "/home/rifat/anaconda3/envs/secretbench/lib/python3.10/site-packages/tqdm/auto.py:21: TqdmWarning: IProgress not found. Please update jupyter and ipywidgets. See https://ipywidgets.readthedocs.io/en/stable/user_install.html\n",
      "  from .autonotebook import tqdm as notebook_tqdm\n"
     ]
    }
   ],
   "source": [
    "import numpy as np\n",
    "import pandas as pd\n",
    "import os\n",
    "from tqdm import tqdm\n",
    "import bitsandbytes as bnb\n",
    "import torch\n",
    "import torch.nn as nn\n",
    "import transformers\n",
    "from datasets import Dataset\n",
    "from peft import LoraConfig, PeftConfig\n",
    "from trl import SFTTrainer\n",
    "from trl import setup_chat_format\n",
    "from transformers import (AutoModelForCausalLM, \n",
    "                          AutoTokenizer, \n",
    "                          BitsAndBytesConfig, \n",
    "                          TrainingArguments, \n",
    "                          pipeline, \n",
    "                          logging)\n",
    "from sklearn.metrics import (accuracy_score, \n",
    "                             classification_report, \n",
    "                             confusion_matrix)\n",
    "from sklearn.model_selection import train_test_split\n",
    "import bitsandbytes as bnb\n",
    "import matplotlib.pyplot as plt\n",
    "import seaborn as sns\n",
    "from sklearn.metrics import confusion_matrix\n",
    "from tqdm import tqdm\n",
    "from huggingface_hub import login"
   ]
  },
  {
   "cell_type": "code",
   "execution_count": 2,
   "metadata": {},
   "outputs": [],
   "source": [
    "from transformers import set_seed\n",
    "\n",
    "set_seed(69420)"
   ]
  },
  {
   "cell_type": "code",
   "execution_count": null,
   "metadata": {},
   "outputs": [],
   "source": []
  },
  {
   "cell_type": "code",
   "execution_count": null,
   "metadata": {},
   "outputs": [],
   "source": [
    "df1 = pd.read_csv(\"dataset/secretbench_merged_filecontents_1.csv\")\n",
    "df1=df1[df1['Label']==0]\n",
    "df1 = df1.sample(frac=1, random_state=69420).reset_index(drop=True).head(15000)"
   ]
  },
  {
   "cell_type": "code",
   "execution_count": null,
   "metadata": {},
   "outputs": [],
   "source": [
    "df2 = pd.read_csv(\"dataset/secretbench_merged_filecontents_2.csv\")\n",
    "df2=df2[df2['Label']==0]\n",
    "df2 = df2.sample(frac=1, random_state=69420).reset_index(drop=True).head(15000)"
   ]
  },
  {
   "cell_type": "code",
   "execution_count": 5,
   "metadata": {},
   "outputs": [],
   "source": [
    "df3 = pd.read_csv(\"dataset/secretbench_label_1_samples.csv\")\n",
    "df3 = df3.sample(frac=1, random_state=69420).reset_index(drop=True).head(15000)"
   ]
  },
  {
   "cell_type": "code",
   "execution_count": 6,
   "metadata": {},
   "outputs": [],
   "source": [
    "# Combine negatives\n",
    "df_neg = pd.concat([df1, df2]).sample(frac=1, random_state=69420).reset_index(drop=True)  # 30,000 negatives\n",
    "df_pos = df3  # 15,000 positives\n",
    "\n",
    "del df1\n",
    "del df2"
   ]
  },
  {
   "cell_type": "code",
   "execution_count": 7,
   "metadata": {},
   "outputs": [
    {
     "name": "stdout",
     "output_type": "stream",
     "text": [
      "final_dataset/Datasets saved successfully!\n"
     ]
    }
   ],
   "source": [
    "\n",
    "\n",
    "# Splitting train, eval, test\n",
    "train_pos = df_pos.iloc[:12000]  # 12k positives for balanced train\n",
    "train_neg = df_neg.iloc[:12000]  # 12k negatives for balanced train\n",
    "train_set = pd.concat([train_pos, train_neg]).sample(frac=1, random_state=69420).reset_index(drop=True)\n",
    "\n",
    "imbalanced_train_pos = df_pos.iloc[:3750]  # 3.75k positives for imbalanced train\n",
    "imbalanced_train_neg = df_neg.iloc[:20250]  # 20.25k negatives for imbalanced train\n",
    "imbalanced_train_set = pd.concat([imbalanced_train_pos, imbalanced_train_neg]).sample(frac=1, random_state=69420).reset_index(drop=True)\n",
    "\n",
    "eval_pos = df_pos.iloc[12000:13500]  # 1.5k positives for eval\n",
    "eval_neg = df_neg.iloc[20250:21750]  # 1.5k negatives for eval\n",
    "eval_set = pd.concat([eval_pos, eval_neg]).sample(frac=1, random_state=69420).reset_index(drop=True)\n",
    "\n",
    "test_pos = df_pos.iloc[13500:15000]  # 1.5k positives for test\n",
    "test_neg = df_neg.iloc[21750:23250]  # 1.5k negatives for test\n",
    "test_set = pd.concat([test_pos, test_neg]).sample(frac=1, random_state=69420).reset_index(drop=True)\n",
    "\n",
    "# Save datasets\n",
    "train_set.to_csv(\"final_dataset/train_set.csv\", index=False)\n",
    "imbalanced_train_set.to_csv(\"final_dataset/imbalanced_train_set.csv\", index=False)\n",
    "eval_set.to_csv(\"final_dataset/eval_set.csv\", index=False)\n",
    "test_set.to_csv(\"test_set.csv\", index=False)\n",
    "\n",
    "print(\"final_dataset/Datasets saved successfully!\")"
   ]
  },
  {
   "cell_type": "code",
   "execution_count": null,
   "metadata": {},
   "outputs": [],
   "source": []
  },
  {
   "cell_type": "code",
   "execution_count": null,
   "metadata": {},
   "outputs": [],
   "source": []
  },
  {
   "cell_type": "code",
   "execution_count": null,
   "metadata": {},
   "outputs": [],
   "source": []
  },
  {
   "cell_type": "code",
   "execution_count": null,
   "metadata": {},
   "outputs": [],
   "source": []
  },
  {
   "cell_type": "code",
   "execution_count": null,
   "metadata": {},
   "outputs": [],
   "source": []
  },
  {
   "cell_type": "code",
   "execution_count": null,
   "metadata": {},
   "outputs": [],
   "source": []
  },
  {
   "cell_type": "code",
   "execution_count": null,
   "metadata": {},
   "outputs": [],
   "source": []
  },
  {
   "cell_type": "code",
   "execution_count": null,
   "metadata": {},
   "outputs": [],
   "source": []
  }
 ],
 "metadata": {
  "kernelspec": {
   "display_name": "secretbench",
   "language": "python",
   "name": "python3"
  },
  "language_info": {
   "codemirror_mode": {
    "name": "ipython",
    "version": 3
   },
   "file_extension": ".py",
   "mimetype": "text/x-python",
   "name": "python",
   "nbconvert_exporter": "python",
   "pygments_lexer": "ipython3",
   "version": "3.10.15"
  }
 },
 "nbformat": 4,
 "nbformat_minor": 2
}
